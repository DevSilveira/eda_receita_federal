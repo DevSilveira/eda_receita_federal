{
 "cells": [
  {
   "cell_type": "markdown",
   "id": "8e137fc6",
   "metadata": {},
   "source": [
    "Este arquivo tem como objetivo a análise e tratamento dos dados para disponibilizá-los de forma limpa e tratada para desenvolvimento de análises futuras."
   ]
  },
  {
   "cell_type": "code",
   "execution_count": 1,
   "id": "7841a63a",
   "metadata": {},
   "outputs": [],
   "source": [
    "import pandas as pd"
   ]
  },
  {
   "cell_type": "code",
   "execution_count": 2,
   "id": "e3c0528a",
   "metadata": {},
   "outputs": [],
   "source": [
    "dados_uf = pd.read_csv('./dados_brutos/dados_uf.csv')\n",
    "dados_itr = pd.read_csv('./dados_brutos/dados_itr.csv')\n",
    "dados_ir_ipi = pd.read_csv('./dados_brutos/dados_ir_ipi.csv')\n",
    "dados_cnae = pd.read_csv('./dados_brutos/dados_cnae.csv')\n",
    "dados_natjur = pd.read_csv('./dados_brutos/dados_natureza_juridica.csv')"
   ]
  },
  {
   "cell_type": "code",
   "execution_count": 3,
   "id": "34905857",
   "metadata": {},
   "outputs": [],
   "source": [
    "# Limpeza e tratamento dos dados da Arrecadação de ITR\n",
    "dados_itr['valor_arrecadado'] = dados_itr['valor_arrecadado'].fillna(0)\n",
    "dados_itr.rename(columns={'ano': 'year', 'mes': 'month', 'sigla_uf': 'uf'}, inplace=True)\n",
    "dados_itr['data'] = pd.to_datetime(dados_itr[['year', 'month']].assign(day=1))\n",
    "dados_itr.drop(columns=['year', 'month'], inplace=True)\n",
    "dados_itr.to_csv('./dados_limpos/dados_itr.csv', index=False)"
   ]
  },
  {
   "cell_type": "code",
   "execution_count": 4,
   "id": "99edff0b",
   "metadata": {},
   "outputs": [],
   "source": [
    "dados_natjur.rename(columns={'ano': 'year', 'mes': 'month', 'natureza_juridica_codigo': 'codigo_nj'}, inplace=True)\n",
    "dados_natjur['data'] = pd.to_datetime(dados_natjur[['year', 'month']].assign(day=1))\n",
    "dados_natjur.drop(columns=['year', 'month'], inplace=True)\n",
    "colunas = ['imposto_importacao', 'imposto_exportacao', 'ipi', 'irpf', 'irpj', 'irrf', 'iof', 'itr', 'cofins',\n",
    "        'pis_pasep', 'csll', 'cide_combustiveis', 'contribuicao_previdenciaria', 'cpsss', 'pagamento_unificado',\n",
    "        'outras_receitas_rfb', 'demais_receitas']\n",
    "dados_natjur[colunas] = dados_natjur[colunas].fillna(0)\n",
    "dados_natjur.to_csv('./dados_limpos/dados_natureza_juridica.csv', index=False)"
   ]
  },
  {
   "cell_type": "code",
   "execution_count": 5,
   "id": "69b7710e",
   "metadata": {},
   "outputs": [],
   "source": [
    "dados_ir_ipi.rename(columns={'ano': 'year', 'mes': 'month', 'decendio': 'decendio_bkp'}, inplace=True)\n",
    "dados_ir_ipi['data'] = pd.to_datetime(dados_ir_ipi[['year', 'month']].assign(day=1))\n",
    "dados_ir_ipi['decendio'] = dados_ir_ipi['decendio_bkp'].astype(str).str[0]\n",
    "dados_ir_ipi.drop(columns=['year', 'month', 'decendio_bkp'], inplace=True)\n",
    "dados_ir_ipi.to_csv('./dados_limpos/dados_ir_ipi.csv', index=False)"
   ]
  },
  {
   "cell_type": "code",
   "execution_count": 6,
   "id": "8bf0e4cb",
   "metadata": {},
   "outputs": [],
   "source": [
    "dados_cnae.rename(columns={'ano':'year', 'mes': 'month'}, inplace=True)\n",
    "dados_cnae['data'] = pd.to_datetime(dados_cnae[['year', 'month']].assign(day=1))\n",
    "dados_cnae.drop(columns=['year', 'month'], inplace=True)\n",
    "colunas = ['imposto_importacao', 'imposto_exportacao', 'ipi', 'irpf', 'irpj', 'irrf', 'iof', 'itr', 'cofins',\n",
    "        'pis_pasep', 'csll', 'cide_combustiveis', 'contribuicao_previdenciaria', 'cpsss', 'pagamento_unificado',\n",
    "        'outras_receitas_rfb', 'demais_receitas']\n",
    "dados_cnae[colunas] = dados_cnae[colunas].fillna(0)\n",
    "dados_cnae.to_csv('./dados_limpos/dados_cnae.csv', index=False)"
   ]
  },
  {
   "cell_type": "code",
   "execution_count": 7,
   "id": "4b999783",
   "metadata": {},
   "outputs": [],
   "source": [
    "colunas = ['imposto_importacao', 'imposto_exportacao',\n",
    "        'ipi_fumo', 'ipi_bebidas', 'ipi_automoveis', 'ipi_importacoes',\n",
    "        'ipi_outros', 'irpf', 'irpj_entidades_financeiras',\n",
    "        'irpj_demais_empresas', 'irrf_rendimentos_trabalho',\n",
    "        'irrf_rendimentos_capital', 'irrf_remessas_exterior',\n",
    "        'irrf_outros_rendimentos', 'iof', 'itr', 'ipmf', 'cpmf', 'cofins',\n",
    "        'cofins_entidades_financeiras', 'cofins_demais_empresas', 'pis_pasep',\n",
    "        'pis_pasep_entidades_financeiras', 'pis_pasep_demais_empresas', 'csll',\n",
    "        'csll_entidades_financeiras', 'csll_demais_empresas',\n",
    "        'cide_combustiveis_parcela_nao_dedutivel', 'cide_combustiveis',\n",
    "        'cpsss_1', 'cpsss_2', 'contribuicao_fundaf', 'refis', 'paes',\n",
    "        'retencoes_fonte', 'pagamento_unificado', 'outras_receitas_rfb',\n",
    "        'demais_receitas', 'receita_previdenciaria',\n",
    "        'receita_previdenciaria_propria', 'receita_previdenciaria_demais',\n",
    "        'receitas_outros_orgaos']\n",
    "dados_uf[colunas] = dados_uf[colunas].fillna(0)\n",
    "dados_uf.rename(columns={'ano': 'year', 'mes': 'month'}, inplace=True)\n",
    "dados_uf['data'] = pd.to_datetime(dados_uf[['year', 'month']].assign(day=1))\n",
    "dados_uf.drop(columns=['year', 'month'], inplace=True)\n",
    "dados_uf.to_csv('./dados_limpos/dados_uf.csv', index=False)"
   ]
  }
 ],
 "metadata": {
  "kernelspec": {
   "display_name": "venv",
   "language": "python",
   "name": "python3"
  },
  "language_info": {
   "codemirror_mode": {
    "name": "ipython",
    "version": 3
   },
   "file_extension": ".py",
   "mimetype": "text/x-python",
   "name": "python",
   "nbconvert_exporter": "python",
   "pygments_lexer": "ipython3",
   "version": "3.11.9"
  }
 },
 "nbformat": 4,
 "nbformat_minor": 5
}
